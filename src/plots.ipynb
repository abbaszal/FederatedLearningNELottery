{
 "cells": [
  {
   "cell_type": "markdown",
   "id": "cd3a1454",
   "metadata": {},
   "source": [
    "# Part 1"
   ]
  },
  {
   "cell_type": "code",
   "execution_count": null,
   "id": "ce5c851d",
   "metadata": {},
   "outputs": [],
   "source": [
    "import os\n",
    "import pandas as pd\n",
    "import matplotlib.pyplot as plt\n",
    "\n",
    "def plot_coalition_results(base_save_dir, dataset_name, approach_name):\n",
    "    def find_cc_folders(base_dir):\n",
    "        cc_dirs = []\n",
    "        for name in os.listdir(base_dir):\n",
    "            if name.startswith(\"CC_\"):\n",
    "                cc_val = float(name.replace(\"CC_\", \"\"))\n",
    "                full_path = os.path.join(base_dir, name)\n",
    "                cc_dirs.append((cc_val, full_path))\n",
    "        cc_dirs.sort(key=lambda x: x[0])\n",
    "        return cc_dirs\n",
    "\n",
    "    cc_folders = find_cc_folders(base_save_dir)\n",
    "    all_counts = []\n",
    "\n",
    "    for cc_val, cc_dir in cc_folders:\n",
    "        for fname in os.listdir(cc_dir):\n",
    "            if fname.startswith(\"Nash_Counts_\") and fname.endswith(\".csv\"):\n",
    "                path = os.path.join(cc_dir, fname)\n",
    "                df = pd.read_csv(path)\n",
    "\n",
    "                if \"Complete_Occurrences\" in df.columns and \"Static_Occurrences\" not in df.columns:\n",
    "                    df[\"Static_Occurrences\"] = df[\"Complete_Occurrences\"]\n",
    "\n",
    "                df[\"comm_cost\"] = cc_val\n",
    "                df[\"source_file\"] = fname\n",
    "                df[\"n_trials\"] = 100\n",
    "                df[\"nash_rate\"] = df[\"Static_Occurrences\"] / df[\"n_trials\"]\n",
    "                df[\"lottery_rate\"] = df[\"Lottery_Occurrences\"] / df[\"n_trials\"]\n",
    "                all_counts.append(df)\n",
    "\n",
    "    counts_df = pd.concat(all_counts, ignore_index=True)\n",
    "\n",
    "    x_values = list(range(10, 101, 10))\n",
    "    cc_groups = {}\n",
    "    for cc_val, subdf in counts_df.groupby(\"comm_cost\"):\n",
    "        sdf = subdf.sort_values(\"n_clients\")\n",
    "        static_g = sdf[[\"n_clients\", \"Static_Occurrences\"]].reset_index(drop=True)\n",
    "        lot_g = sdf[[\"n_clients\", \"Lottery_Occurrences\"]].reset_index(drop=True)\n",
    "        static_g = static_g.set_index(\"n_clients\").reindex(x_values).reset_index()\n",
    "        lot_g = lot_g.set_index(\"n_clients\").reindex(x_values).reset_index()\n",
    "        cc_groups[cc_val] = (static_g, lot_g)\n",
    "\n",
    "    fig, axes = plt.subplots(1, 2, figsize=(12, 5), sharey=True)\n",
    "    ax1, ax2 = axes\n",
    "\n",
    "    for cc_val, (static_g, _) in cc_groups.items():\n",
    "        ax1.plot(static_g[\"n_clients\"], static_g[\"Static_Occurrences\"], marker=\"o\", label=f\"CC={cc_val}\")\n",
    "\n",
    "    ax1.set_title(f\"Complete Information {dataset_name} - {approach_name}\")\n",
    "    ax1.set_xlabel(\"Number of clients\")\n",
    "    ax1.set_ylabel(\"Grand coalition occurrences (per 100 trials)\")\n",
    "    ax1.set_xticks(x_values)\n",
    "    ax1.set_ylim(-1, 103)\n",
    "    ax1.grid(True, linestyle=\"--\", alpha=0.7)\n",
    "    ax1.legend()\n",
    "\n",
    "    for cc_val, (_, lot_g) in cc_groups.items():\n",
    "        ax2.plot(lot_g[\"n_clients\"], lot_g[\"Lottery_Occurrences\"], marker=\"o\", label=f\"CC={cc_val}\")\n",
    "\n",
    "    ax2.set_title(f\"Lottery Scenario {dataset_name} - {approach_name}\")\n",
    "    ax2.set_xlabel(\"Number of clients\")\n",
    "    ax2.set_ylabel(\"Grand coalition occurrences (per 100 trials)\")\n",
    "    ax2.set_xticks(x_values)\n",
    "    ax2.set_ylim(-1, 103)\n",
    "    ax2.grid(True, linestyle=\"--\", alpha=0.7)\n",
    "    ax2.legend()\n",
    "\n",
    "    plt.tight_layout()\n",
    "    fig.subplots_adjust(bottom=0.15)\n",
    "\n",
    "    figs_dir = os.path.join(\"figs\")\n",
    "    os.makedirs(figs_dir, exist_ok=True)\n",
    "    filename = f\"{dataset_name.lower()}_{approach_name.lower()}.pdf\"\n",
    "    save_path = os.path.join(figs_dir, filename)\n",
    "    fig.savefig(save_path, bbox_inches=\"tight\")\n",
    "    plt.close(fig)"
   ]
  },
  {
   "cell_type": "markdown",
   "id": "df9c7d5c",
   "metadata": {},
   "source": [
    "### FedLR Spambase"
   ]
  },
  {
   "cell_type": "code",
   "execution_count": null,
   "id": "8a2399b9",
   "metadata": {},
   "outputs": [],
   "source": [
    "plot_coalition_results(\n",
    "    base_save_dir=\"/results/spambase_fedlr_tree_comcost\",\n",
    "    dataset_name=\"Spambase\",\n",
    "    approach_name=\"FedLR\"\n",
    ")"
   ]
  },
  {
   "cell_type": "markdown",
   "id": "74aa74af",
   "metadata": {},
   "source": [
    "### FedFor Spambase"
   ]
  },
  {
   "cell_type": "code",
   "execution_count": null,
   "id": "bd19314a",
   "metadata": {},
   "outputs": [],
   "source": [
    "plot_coalition_results(\n",
    "    base_save_dir=\"/results/spambase_fedfor_linear_comcost\",\n",
    "    dataset_name=\"Spambase\",\n",
    "    approach_name=\"FedFor\"\n",
    ")\n"
   ]
  },
  {
   "cell_type": "markdown",
   "id": "9a36dd89",
   "metadata": {},
   "source": [
    "### FedLR HuGaDB"
   ]
  },
  {
   "cell_type": "code",
   "execution_count": null,
   "id": "8670340c",
   "metadata": {},
   "outputs": [],
   "source": [
    "plot_coalition_results(\n",
    "    base_save_dir=\"/results/hugadb_fedlr_rf_comcost\",\n",
    "    dataset_name=\"HuGaDB\",\n",
    "    approach_name=\"FedLR\"\n",
    ")\n"
   ]
  },
  {
   "cell_type": "markdown",
   "id": "1a38bbb9",
   "metadata": {},
   "source": [
    "### FedFor HuGaDB"
   ]
  },
  {
   "cell_type": "code",
   "execution_count": null,
   "id": "d5d1ef91",
   "metadata": {},
   "outputs": [],
   "source": [
    "plot_coalition_results(\n",
    "    base_save_dir=\"/results/hugadb_fedfor_linear_comcost\",\n",
    "    dataset_name=\"HuGaDB\",\n",
    "    approach_name=\"FedFor\"\n",
    ")\n"
   ]
  },
  {
   "cell_type": "markdown",
   "id": "bb99d0c4",
   "metadata": {},
   "source": [
    "### FedLR Adult"
   ]
  },
  {
   "cell_type": "code",
   "execution_count": null,
   "id": "e212e7cd",
   "metadata": {},
   "outputs": [],
   "source": [
    "plot_coalition_results(\n",
    "    base_save_dir=\"/results/adult_fedlr_linear_comcost\",\n",
    "    dataset_name=\"Adult\",\n",
    "    approach_name=\"FedLR\"\n",
    ")"
   ]
  },
  {
   "cell_type": "markdown",
   "id": "c640d049",
   "metadata": {},
   "source": [
    "### FedFor Adult"
   ]
  },
  {
   "cell_type": "code",
   "execution_count": null,
   "id": "80458cd2",
   "metadata": {},
   "outputs": [],
   "source": [
    "plot_coalition_results(\n",
    "    base_save_dir=\"/results/adult_fedfor_linear_comcost\",\n",
    "    dataset_name=\"Adult\",\n",
    "    approach_name=\"FedFor\"\n",
    ")"
   ]
  },
  {
   "cell_type": "markdown",
   "id": "2671b3b9",
   "metadata": {},
   "source": [
    "### FedLR KDD"
   ]
  },
  {
   "cell_type": "code",
   "execution_count": null,
   "id": "eaaab215",
   "metadata": {},
   "outputs": [],
   "source": [
    "plot_coalition_results(\n",
    "    base_save_dir=\"/results/kdd_fedlr_rf_comcost\",\n",
    "    dataset_name=\"KDD\",\n",
    "    approach_name=\"FedLR\"\n",
    ")"
   ]
  },
  {
   "cell_type": "markdown",
   "id": "63f066bb",
   "metadata": {},
   "source": [
    "### FedFor KDD"
   ]
  },
  {
   "cell_type": "code",
   "execution_count": null,
   "id": "f56be68a",
   "metadata": {},
   "outputs": [],
   "source": [
    "plot_coalition_results(\n",
    "    base_save_dir=\"/results/kdd_fedfor_tree_comcost\",\n",
    "    dataset_name=\"KDD\",\n",
    "    approach_name=\"FedFor\"\n",
    ")"
   ]
  },
  {
   "cell_type": "markdown",
   "id": "05e2d34c",
   "metadata": {},
   "source": [
    "# Part 2"
   ]
  },
  {
   "cell_type": "code",
   "execution_count": null,
   "id": "b6bd2551",
   "metadata": {},
   "outputs": [],
   "source": [
    "import numpy as np\n",
    "import glob\n",
    "from matplotlib.ticker import MultipleLocator, FormatStrFormatter\n",
    "\n",
    "def plot_global_vs_best_accuracy(\n",
    "    dataset_name,\n",
    "    approach_name,\n",
    "    dataset_name_,\n",
    "    approach_name_,\n",
    "    base_dir\n",
    "):\n",
    "    \n",
    "    figs_dir = os.path.join(\"figs\")\n",
    "    summary_dir = os.path.join(\"summary\")\n",
    "\n",
    "    os.makedirs(figs_dir, exist_ok=True)\n",
    "    os.makedirs(summary_dir, exist_ok=True)\n",
    "\n",
    "    out_csv = os.path.join(summary_dir, f\"{dataset_name}_{approach_name}_all.csv\")\n",
    "    out_pdf = os.path.join(figs_dir, f\"{dataset_name}_{approach_name}_plots.pdf\")\n",
    "\n",
    "\n",
    "    csv_paths = glob.glob(os.path.join(base_dir, \"CC_*/best_client_vs_predicted_global.csv\"))\n",
    "\n",
    "    all_dfs = []\n",
    "    for path in csv_paths:\n",
    "        df = pd.read_csv(path)\n",
    "        df = df.rename(columns={\n",
    "            \"n_clients\": \"n_clients\",\n",
    "            \"predicted_global\": \"predicted_global\",\n",
    "            \"actual_global\": \"actual_global\",\n",
    "            \"best_client_acc\": \"best_client_acc\"\n",
    "        })\n",
    "        df[\"pred_minus_best\"] = df[\"predicted_global\"] - df[\"best_client_acc\"]\n",
    "        df[\"actual_minus_best\"] = df[\"actual_global\"] - df[\"best_client_acc\"]\n",
    "        all_dfs.append(df)\n",
    "\n",
    "    df_all = pd.concat(all_dfs, ignore_index=True)\n",
    "\n",
    "    agg = (\n",
    "        df_all.groupby(\"n_clients\")\n",
    "            .agg(\n",
    "                max_pred_minus_best=(\"pred_minus_best\", \"max\"),\n",
    "                max_actual_minus_best=(\"actual_minus_best\", \"max\"),\n",
    "                avg_pred_minus_best=(\"pred_minus_best\", \"mean\"),\n",
    "                avg_actual_minus_best=(\"actual_minus_best\", \"mean\"),\n",
    "                std_pred_minus_best=(\"pred_minus_best\", \"std\"),\n",
    "                std_actual_minus_best=(\"actual_minus_best\", \"std\"),\n",
    "                count=(\"pred_minus_best\", \"size\")\n",
    "            )\n",
    "            .reset_index()\n",
    "            .sort_values(\"n_clients\")\n",
    "    )\n",
    "\n",
    "    agg.to_csv(out_csv, index=False)\n",
    "\n",
    "    fig, axes = plt.subplots(1, 2, figsize=(12, 5), sharey=True)\n",
    "\n",
    "    y_all = np.r_[\n",
    "        agg[\"max_actual_minus_best\"].values,\n",
    "        agg[\"avg_actual_minus_best\"].values,\n",
    "        agg[\"max_pred_minus_best\"].values,\n",
    "        agg[\"avg_pred_minus_best\"].values,\n",
    "    ]\n",
    "    ymin, ymax = np.min(y_all), np.max(y_all)\n",
    "    rng = ymax - ymin if ymax > ymin else 0.001\n",
    "    pad = max(0.001, 0.05 * rng)\n",
    "    ylow, yhigh = ymin - pad, ymax + pad\n",
    "\n",
    "    raw_step = rng / 8.0\n",
    "    step = max(0.001, round(raw_step, 3))\n",
    "    minor_step = step / 2.0\n",
    "\n",
    "    ax = axes[0]\n",
    "    ax.plot(agg[\"n_clients\"], agg[\"max_actual_minus_best\"], marker=\"o\", label=\"Max actual - best client\")\n",
    "    ax.plot(agg[\"n_clients\"], agg[\"avg_actual_minus_best\"], marker=\"o\", linestyle=\"--\", label=\"Avg actual - best client\")\n",
    "    ax.set_title(f\"{dataset_name_} {approach_name_}\")\n",
    "    ax.set_xlabel(\"Number of clients\")\n",
    "    ax.set_ylabel(\"Difference global accuracy and best client accuracy\")\n",
    "    ax.set_xlim(7, 102)\n",
    "    ax.xaxis.set_major_locator(MultipleLocator(10))\n",
    "    ax.margins(x=0.05)\n",
    "    ax.set_ylim(ylow, yhigh)\n",
    "    ax.yaxis.set_major_locator(MultipleLocator(step))\n",
    "    ax.yaxis.set_minor_locator(MultipleLocator(minor_step))\n",
    "    ax.yaxis.set_major_formatter(FormatStrFormatter('%.3f'))\n",
    "    ax.grid(True, which=\"both\", axis=\"both\", alpha=0.35)\n",
    "    ax.legend()\n",
    "\n",
    "    ax = axes[1]\n",
    "    ax.plot(agg[\"n_clients\"], agg[\"max_pred_minus_best\"], marker=\"s\", label=\"Max predicted - best client\")\n",
    "    ax.plot(agg[\"n_clients\"], agg[\"avg_pred_minus_best\"], marker=\"s\", linestyle=\"--\", label=\"Avg predicted - best client\")\n",
    "    ax.set_title(f\"{dataset_name_} {approach_name_}\")\n",
    "    ax.set_xlabel(\"Number of clients\")\n",
    "    ax.set_xlim(7, 102)\n",
    "    ax.xaxis.set_major_locator(MultipleLocator(10))\n",
    "    ax.margins(x=0.05)\n",
    "    ax.set_ylim(ylow, yhigh)\n",
    "    ax.yaxis.set_major_locator(MultipleLocator(step))\n",
    "    ax.yaxis.set_minor_locator(MultipleLocator(minor_step))\n",
    "    ax.yaxis.set_major_formatter(FormatStrFormatter('%.3f'))\n",
    "    ax.grid(True, which=\"both\", axis=\"both\", alpha=0.35)\n",
    "    ax.legend()\n",
    "\n",
    "    plt.tight_layout()\n",
    "    plt.savefig(out_pdf, format=\"pdf\", bbox_inches=\"tight\")\n",
    "    plt.close(fig)"
   ]
  },
  {
   "cell_type": "markdown",
   "id": "83cad5c6",
   "metadata": {},
   "source": [
    "### FedLR Spambase"
   ]
  },
  {
   "cell_type": "code",
   "execution_count": null,
   "id": "9de7e958",
   "metadata": {},
   "outputs": [],
   "source": [
    "plot_global_vs_best_accuracy(\n",
    "    dataset_name=\"spambase\",\n",
    "    approach_name=\"fedlr\",\n",
    "    dataset_name_=\"Spambase\",\n",
    "    approach_name_=\"FedLR\",\n",
    "    base_dir=\"/results/spambase_fedlr_tree_commcost\"\n",
    ")"
   ]
  },
  {
   "cell_type": "markdown",
   "id": "47531672",
   "metadata": {},
   "source": [
    "### FedFor Spambase"
   ]
  },
  {
   "cell_type": "code",
   "execution_count": null,
   "id": "cf8ba609",
   "metadata": {},
   "outputs": [],
   "source": [
    "plot_global_vs_best_accuracy(\n",
    "    dataset_name=\"spambase\",\n",
    "    approach_name=\"fedfor\",\n",
    "    dataset_name_=\"Spambase\",\n",
    "    approach_name_=\"FedFor\",\n",
    "    base_dir=\"/results/spambase_fedfor_linear_commcost\"\n",
    ")"
   ]
  },
  {
   "cell_type": "markdown",
   "id": "e796deb1",
   "metadata": {},
   "source": [
    "### FedLR HuGaDB"
   ]
  },
  {
   "cell_type": "code",
   "execution_count": null,
   "id": "8e0a1964",
   "metadata": {},
   "outputs": [],
   "source": [
    "plot_global_vs_best_accuracy(\n",
    "    dataset_name=\"huagadb\",\n",
    "    approach_name=\"fedlr\",\n",
    "    dataset_name_=\"HuGaDB\",\n",
    "    approach_name_=\"FedLR\",\n",
    "    base_dir=\"/results/hugadb_fedlr_rf_commcost\"\n",
    ")"
   ]
  },
  {
   "cell_type": "markdown",
   "id": "941f9f60",
   "metadata": {},
   "source": [
    "### FedFor HuGaDB"
   ]
  },
  {
   "cell_type": "code",
   "execution_count": null,
   "id": "c0bb0760",
   "metadata": {},
   "outputs": [],
   "source": [
    "plot_global_vs_best_accuracy(\n",
    "    dataset_name=\"hugadb\",\n",
    "    approach_name=\"fedfor\",\n",
    "    dataset_name_=\"HuGaDB\",\n",
    "    approach_name_=\"FedFor\",\n",
    "    base_dir=\"/results/hugadb_fedfor_linear_commcost\"\n",
    ")"
   ]
  },
  {
   "cell_type": "markdown",
   "id": "6d2ffbe9",
   "metadata": {},
   "source": [
    "### FedLR Adult"
   ]
  },
  {
   "cell_type": "code",
   "execution_count": null,
   "id": "4f5cf939",
   "metadata": {},
   "outputs": [],
   "source": [
    "plot_global_vs_best_accuracy(\n",
    "    dataset_name=\"adult\",\n",
    "    approach_name=\"fedlr\",\n",
    "    dataset_name_=\"Adult\",\n",
    "    approach_name_=\"FedLR\",\n",
    "    base_dir=\"/results/adult_fedlr_linear_comcost\"\n",
    ")"
   ]
  },
  {
   "cell_type": "markdown",
   "id": "287b4486",
   "metadata": {},
   "source": [
    "### FedFor Adult"
   ]
  },
  {
   "cell_type": "code",
   "execution_count": null,
   "id": "2659f14c",
   "metadata": {},
   "outputs": [],
   "source": [
    "plot_global_vs_best_accuracy(\n",
    "    dataset_name=\"adult\",\n",
    "    approach_name=\"fedfor\",\n",
    "    dataset_name_=\"Adult\",\n",
    "    approach_name_=\"FedFor\",\n",
    "    base_dir=\"/results/adult_fedfor_linear_comcost\"\n",
    ")"
   ]
  },
  {
   "cell_type": "markdown",
   "id": "5af1d9b5",
   "metadata": {},
   "source": [
    "### FedLR KDD"
   ]
  },
  {
   "cell_type": "code",
   "execution_count": null,
   "id": "2cd9551e",
   "metadata": {},
   "outputs": [],
   "source": [
    "plot_global_vs_best_accuracy(\n",
    "    dataset_name=\"kdd\",\n",
    "    approach_name=\"fedlr\",\n",
    "    dataset_name_=\"KDD\",\n",
    "    approach_name_=\"FedLR\",\n",
    "    base_dir=\"/results/kdd_fedlr_rf_comcost\"\n",
    ")"
   ]
  },
  {
   "cell_type": "markdown",
   "id": "fc13e793",
   "metadata": {},
   "source": [
    "### FedFor KDD"
   ]
  },
  {
   "cell_type": "code",
   "execution_count": null,
   "id": "67efbc0a",
   "metadata": {},
   "outputs": [],
   "source": [
    "plot_global_vs_best_accuracy(\n",
    "    dataset_name=\"kdd\",\n",
    "    approach_name=\"fedfor\",\n",
    "    dataset_name_=\"KDD\",\n",
    "    approach_name_=\"FedFor\",\n",
    "    base_dir=\"/results/kdd_fedfor_tree_comcost\"\n",
    ")"
   ]
  }
 ],
 "metadata": {
  "kernelspec": {
   "display_name": "myproject",
   "language": "python",
   "name": "python3"
  },
  "language_info": {
   "codemirror_mode": {
    "name": "ipython",
    "version": 3
   },
   "file_extension": ".py",
   "mimetype": "text/x-python",
   "name": "python",
   "nbconvert_exporter": "python",
   "pygments_lexer": "ipython3",
   "version": "3.10.16"
  }
 },
 "nbformat": 4,
 "nbformat_minor": 5
}
